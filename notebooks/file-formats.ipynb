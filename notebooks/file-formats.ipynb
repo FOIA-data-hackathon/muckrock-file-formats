{
 "cells": [
  {
   "cell_type": "markdown",
   "metadata": {},
   "source": [
    "# File formats analysis"
   ]
  },
  {
   "cell_type": "code",
   "execution_count": 1,
   "metadata": {
    "collapsed": false
   },
   "outputs": [],
   "source": [
    "import pandas as pd\n",
    "import os\n",
    "from pprint import pprint\n",
    "import seaborn\n",
    "from IPython import display\n",
    "%matplotlib inline"
   ]
  },
  {
   "cell_type": "markdown",
   "metadata": {},
   "source": [
    "## Load the data"
   ]
  },
  {
   "cell_type": "code",
   "execution_count": 2,
   "metadata": {
    "collapsed": false
   },
   "outputs": [],
   "source": [
    "requests = pd.read_csv(\"../data/muckrock-requests.csv\").set_index(\"id\")\n",
    "requests.index.name = \"request_id\""
   ]
  },
  {
   "cell_type": "code",
   "execution_count": 3,
   "metadata": {
    "collapsed": false
   },
   "outputs": [],
   "source": [
    "files = pd.read_csv(\"../data/muckrock-files.csv\").set_index(\"request_id\").join(pd.DataFrame({\n",
    "    \"request_slug\": requests[\"slug\"],\n",
    "    \"jurisdiction_name\": requests[\"jurisdiction_name\"],\n",
    "    \"agency_name\": requests[\"agency_name\"]\n",
    "})).reset_index().set_index(\"id\")"
   ]
  },
  {
   "cell_type": "code",
   "execution_count": 4,
   "metadata": {
    "collapsed": false
   },
   "outputs": [
    {
     "data": {
      "text/html": [
       "<div>\n",
       "<table border=\"1\" class=\"dataframe\">\n",
       "  <thead>\n",
       "    <tr style=\"text-align: right;\">\n",
       "      <th>id</th>\n",
       "      <th>25875</th>\n",
       "      <th>79696</th>\n",
       "      <th>75728</th>\n",
       "      <th>28202</th>\n",
       "      <th>36161</th>\n",
       "    </tr>\n",
       "  </thead>\n",
       "  <tbody>\n",
       "    <tr>\n",
       "      <th>request_id</th>\n",
       "      <td>12865</td>\n",
       "      <td>23578</td>\n",
       "      <td>17618</td>\n",
       "      <td>10772</td>\n",
       "      <td>333</td>\n",
       "    </tr>\n",
       "    <tr>\n",
       "      <th>access</th>\n",
       "      <td>public</td>\n",
       "      <td>public</td>\n",
       "      <td>public</td>\n",
       "      <td>public</td>\n",
       "      <td>private</td>\n",
       "    </tr>\n",
       "    <tr>\n",
       "      <th>communication_id</th>\n",
       "      <td>95090</td>\n",
       "      <td>232723</td>\n",
       "      <td>228147</td>\n",
       "      <td>101642</td>\n",
       "      <td>129903</td>\n",
       "    </tr>\n",
       "    <tr>\n",
       "      <th>date</th>\n",
       "      <td>2014-08-18T10:23:58.616069</td>\n",
       "      <td>2016-03-03T00:00:00</td>\n",
       "      <td>2016-02-25T07:12:07.582426</td>\n",
       "      <td>2014-09-26T00:00:00</td>\n",
       "      <td>2015-02-23T14:32:51.521385</td>\n",
       "    </tr>\n",
       "    <tr>\n",
       "      <th>description</th>\n",
       "      <td>NaN</td>\n",
       "      <td>NaN</td>\n",
       "      <td>NaN</td>\n",
       "      <td>NaN</td>\n",
       "      <td>NaN</td>\n",
       "    </tr>\n",
       "    <tr>\n",
       "      <th>doc_id</th>\n",
       "      <td>1276692-goatscapingapproval</td>\n",
       "      <td>2759302-REPREADatabase594-pdf</td>\n",
       "      <td>NaN</td>\n",
       "      <td>1307548-d12-ebb-sp-800-90a-january-2012-pdf</td>\n",
       "      <td>1674382-2014-hqfo-00278_part1</td>\n",
       "    </tr>\n",
       "    <tr>\n",
       "      <th>ffile</th>\n",
       "      <td>https://d3gn0r3afghep.cloudfront.net/foia_file...</td>\n",
       "      <td>https://d3gn0r3afghep.cloudfront.net/foia_file...</td>\n",
       "      <td>https://d3gn0r3afghep.cloudfront.net/foia_file...</td>\n",
       "      <td>https://d3gn0r3afghep.cloudfront.net/foia_file...</td>\n",
       "      <td>https://d3gn0r3afghep.cloudfront.net/foia_file...</td>\n",
       "    </tr>\n",
       "    <tr>\n",
       "      <th>pages</th>\n",
       "      <td>2</td>\n",
       "      <td>1</td>\n",
       "      <td>0</td>\n",
       "      <td>136</td>\n",
       "      <td>1139</td>\n",
       "    </tr>\n",
       "    <tr>\n",
       "      <th>source</th>\n",
       "      <td>Boston City Clerk</td>\n",
       "      <td>San Diego County Sheriff's Department</td>\n",
       "      <td>Federal Bureau of Investigation</td>\n",
       "      <td>Department of Commerce</td>\n",
       "      <td>Department of Homeland Security</td>\n",
       "    </tr>\n",
       "    <tr>\n",
       "      <th>title</th>\n",
       "      <td>goatscapingapproval</td>\n",
       "      <td>REPREADatabase594.pdf</td>\n",
       "      <td>~WRD000</td>\n",
       "      <td>D12 EBB - SP 800-90A (January 2012).pdf</td>\n",
       "      <td>2014-HQFO-00278_Part1</td>\n",
       "    </tr>\n",
       "    <tr>\n",
       "      <th>agency_name</th>\n",
       "      <td>Boston City Clerk</td>\n",
       "      <td>San Diego County Sheriff's Department</td>\n",
       "      <td>Federal Bureau of Investigation</td>\n",
       "      <td>Department of Commerce</td>\n",
       "      <td>Department of Homeland Security</td>\n",
       "    </tr>\n",
       "    <tr>\n",
       "      <th>jurisdiction_name</th>\n",
       "      <td>Boston, MA</td>\n",
       "      <td>San Diego County, CA</td>\n",
       "      <td>United States of America</td>\n",
       "      <td>United States of America</td>\n",
       "      <td>United States of America</td>\n",
       "    </tr>\n",
       "    <tr>\n",
       "      <th>request_slug</th>\n",
       "      <td>all-goatscaping-performance-assessments</td>\n",
       "      <td>recorded-securus-phone-calls-andor-communicati...</td>\n",
       "      <td>jm-porup-fbi-files</td>\n",
       "      <td>dual-ec_nist</td>\n",
       "      <td>faith-based-czar-communication-dhs</td>\n",
       "    </tr>\n",
       "  </tbody>\n",
       "</table>\n",
       "</div>"
      ],
      "text/plain": [
       "id                                                             25875  \\\n",
       "request_id                                                     12865   \n",
       "access                                                        public   \n",
       "communication_id                                               95090   \n",
       "date                                      2014-08-18T10:23:58.616069   \n",
       "description                                                      NaN   \n",
       "doc_id                                   1276692-goatscapingapproval   \n",
       "ffile              https://d3gn0r3afghep.cloudfront.net/foia_file...   \n",
       "pages                                                              2   \n",
       "source                                             Boston City Clerk   \n",
       "title                                            goatscapingapproval   \n",
       "agency_name                                        Boston City Clerk   \n",
       "jurisdiction_name                                         Boston, MA   \n",
       "request_slug                 all-goatscaping-performance-assessments   \n",
       "\n",
       "id                                                             79696  \\\n",
       "request_id                                                     23578   \n",
       "access                                                        public   \n",
       "communication_id                                              232723   \n",
       "date                                             2016-03-03T00:00:00   \n",
       "description                                                      NaN   \n",
       "doc_id                                 2759302-REPREADatabase594-pdf   \n",
       "ffile              https://d3gn0r3afghep.cloudfront.net/foia_file...   \n",
       "pages                                                              1   \n",
       "source                         San Diego County Sheriff's Department   \n",
       "title                                          REPREADatabase594.pdf   \n",
       "agency_name                    San Diego County Sheriff's Department   \n",
       "jurisdiction_name                               San Diego County, CA   \n",
       "request_slug       recorded-securus-phone-calls-andor-communicati...   \n",
       "\n",
       "id                                                             75728  \\\n",
       "request_id                                                     17618   \n",
       "access                                                        public   \n",
       "communication_id                                              228147   \n",
       "date                                      2016-02-25T07:12:07.582426   \n",
       "description                                                      NaN   \n",
       "doc_id                                                           NaN   \n",
       "ffile              https://d3gn0r3afghep.cloudfront.net/foia_file...   \n",
       "pages                                                              0   \n",
       "source                               Federal Bureau of Investigation   \n",
       "title                                                        ~WRD000   \n",
       "agency_name                          Federal Bureau of Investigation   \n",
       "jurisdiction_name                           United States of America   \n",
       "request_slug                                      jm-porup-fbi-files   \n",
       "\n",
       "id                                                             28202  \\\n",
       "request_id                                                     10772   \n",
       "access                                                        public   \n",
       "communication_id                                              101642   \n",
       "date                                             2014-09-26T00:00:00   \n",
       "description                                                      NaN   \n",
       "doc_id                   1307548-d12-ebb-sp-800-90a-january-2012-pdf   \n",
       "ffile              https://d3gn0r3afghep.cloudfront.net/foia_file...   \n",
       "pages                                                            136   \n",
       "source                                        Department of Commerce   \n",
       "title                        D12 EBB - SP 800-90A (January 2012).pdf   \n",
       "agency_name                                   Department of Commerce   \n",
       "jurisdiction_name                           United States of America   \n",
       "request_slug                                            dual-ec_nist   \n",
       "\n",
       "id                                                             36161  \n",
       "request_id                                                       333  \n",
       "access                                                       private  \n",
       "communication_id                                              129903  \n",
       "date                                      2015-02-23T14:32:51.521385  \n",
       "description                                                      NaN  \n",
       "doc_id                                 1674382-2014-hqfo-00278_part1  \n",
       "ffile              https://d3gn0r3afghep.cloudfront.net/foia_file...  \n",
       "pages                                                           1139  \n",
       "source                               Department of Homeland Security  \n",
       "title                                          2014-HQFO-00278_Part1  \n",
       "agency_name                          Department of Homeland Security  \n",
       "jurisdiction_name                           United States of America  \n",
       "request_slug                      faith-based-czar-communication-dhs  "
      ]
     },
     "execution_count": 4,
     "metadata": {},
     "output_type": "execute_result"
    }
   ],
   "source": [
    "files.sample(5).T"
   ]
  },
  {
   "cell_type": "markdown",
   "metadata": {},
   "source": [
    "## Extract file extensions"
   ]
  },
  {
   "cell_type": "code",
   "execution_count": 5,
   "metadata": {
    "collapsed": true
   },
   "outputs": [],
   "source": [
    "get_ext = lambda x: os.path.splitext(x)[1].lower()"
   ]
  },
  {
   "cell_type": "code",
   "execution_count": 6,
   "metadata": {
    "collapsed": true
   },
   "outputs": [],
   "source": [
    "files[\"file_ext\"] = files[\"ffile\"].apply(get_ext)"
   ]
  },
  {
   "cell_type": "markdown",
   "metadata": {},
   "source": [
    "## Try to identify files that are most likely just letters\n",
    "\n",
    "Far from perfect."
   ]
  },
  {
   "cell_type": "code",
   "execution_count": 7,
   "metadata": {
    "collapsed": true
   },
   "outputs": [],
   "source": [
    "likely_letter_pat = (\n",
    "    r\"letter|acknowled|denial|denying|\"\n",
    "    r\"request denied|no responsive|initial response|interim response|\"\n",
    "    r\"request rejected|fix required|payment required\"\n",
    ")"
   ]
  },
  {
   "cell_type": "code",
   "execution_count": 8,
   "metadata": {
    "collapsed": true
   },
   "outputs": [],
   "source": [
    "files[\"is_likely_letter\"] = (\n",
    "    files[\"description\"].str.contains(likely_letter_pat, case=False, na=False) |\n",
    "    files[\"title\"].str.contains(likely_letter_pat, case=False, na=False)\n",
    ")"
   ]
  },
  {
   "cell_type": "code",
   "execution_count": 9,
   "metadata": {
    "collapsed": true
   },
   "outputs": [],
   "source": [
    "non_letters = files[files[\"is_likely_letter\"] == False]"
   ]
  },
  {
   "cell_type": "code",
   "execution_count": 10,
   "metadata": {
    "collapsed": false
   },
   "outputs": [
    {
     "name": "stdout",
     "output_type": "stream",
     "text": [
      "22% of files appear to be letters\n"
     ]
    }
   ],
   "source": [
    "print(\"{0:.0f}% of files appear to be letters\".format(files[\"is_likely_letter\"].mean() * 100))"
   ]
  },
  {
   "cell_type": "code",
   "execution_count": 11,
   "metadata": {
    "collapsed": false
   },
   "outputs": [
    {
     "name": "stdout",
     "output_type": "stream",
     "text": [
      "57% of requests appear to include letter files\n"
     ]
    }
   ],
   "source": [
    "print(\"{0:.0f}% of requests appear to include letter files\"\\\n",
    "      .format((files.groupby(\"request_id\")[\"is_likely_letter\"].sum() > 0).mean() * 100))"
   ]
  },
  {
   "cell_type": "markdown",
   "metadata": {},
   "source": [
    "NOTE: Those numbers seem too low..."
   ]
  },
  {
   "cell_type": "markdown",
   "metadata": {},
   "source": [
    "## What are the most common file formats?"
   ]
  },
  {
   "cell_type": "markdown",
   "metadata": {},
   "source": [
    "For all files:"
   ]
  },
  {
   "cell_type": "code",
   "execution_count": 12,
   "metadata": {
    "collapsed": false
   },
   "outputs": [
    {
     "data": {
      "text/plain": [
       ".pdf     44953\n",
       ".jpg      7806\n",
       ".msg      2236\n",
       ".png      2093\n",
       ".eml      1420\n",
       ".xlsx     1099\n",
       ".docx     1005\n",
       ".doc       654\n",
       ".zip       480\n",
       ".gif       460\n",
       ".xls       408\n",
       "           402\n",
       ".txt       135\n",
       ".wav        97\n",
       ".mp4        67\n",
       "Name: file_ext, dtype: int64"
      ]
     },
     "execution_count": 12,
     "metadata": {},
     "output_type": "execute_result"
    }
   ],
   "source": [
    "files[\"file_ext\"].value_counts().head(15)"
   ]
  },
  {
   "cell_type": "markdown",
   "metadata": {},
   "source": [
    "For non-letters:"
   ]
  },
  {
   "cell_type": "code",
   "execution_count": 13,
   "metadata": {
    "collapsed": false
   },
   "outputs": [
    {
     "data": {
      "text/plain": [
       ".pdf     31617\n",
       ".jpg      7803\n",
       ".msg      2219\n",
       ".png      2092\n",
       ".eml      1405\n",
       ".xlsx     1099\n",
       ".docx      741\n",
       ".doc       511\n",
       ".zip       479\n",
       ".gif       460\n",
       ".xls       407\n",
       "           395\n",
       ".txt       135\n",
       ".wav        97\n",
       ".mp4        67\n",
       "Name: file_ext, dtype: int64"
      ]
     },
     "execution_count": 13,
     "metadata": {},
     "output_type": "execute_result"
    }
   ],
   "source": [
    "non_letters[\"file_ext\"].value_counts().head(15)"
   ]
  },
  {
   "cell_type": "code",
   "execution_count": 14,
   "metadata": {
    "collapsed": false
   },
   "outputs": [
    {
     "data": {
      "image/png": "[encoded data removed]",
      "text/plain": [
       "<matplotlib.figure.Figure at 0x115c6feb8>"
      ]
     },
     "metadata": {},
     "output_type": "display_data"
    }
   ],
   "source": [
    "ax = non_letters[\"file_ext\"].value_counts().head(15)\\\n",
    "    .plot(kind=\"barh\", width=0.8, figsize=(10, 6), fontsize=14)\n",
    "seaborn.mpl.pyplot.gca().invert_yaxis()\n",
    "ax.set_title(\"Most Popular Filetypes\", fontsize=16)\n",
    "pass"
   ]
  },
  {
   "cell_type": "markdown",
   "metadata": {},
   "source": [
    "## How many pages do PDF responses contains?\n",
    "\n",
    "When MuckRock gets a PDF, it counts the number of pages."
   ]
  },
  {
   "cell_type": "code",
   "execution_count": 15,
   "metadata": {
    "collapsed": false
   },
   "outputs": [
    {
     "data": {
      "image/png": "[encoded data removed]",
      "text/plain": [
       "<matplotlib.figure.Figure at 0x114e35b70>"
      ]
     },
     "metadata": {},
     "output_type": "display_data"
    }
   ],
   "source": [
    "ax = non_letters[\n",
    "    (non_letters[\"pages\"] > 0) &\n",
    "    (non_letters[\"is_likely_letter\"] == False)\n",
    "][\"pages\"]\\\n",
    "    .apply(lambda x: min(x, 55))\\\n",
    "    .hist(bins=range(0, 60, 5), normed=True, figsize=(10, 6))\n",
    "ax.set_xlim((0, 55))\n",
    "ax.set_title(\"Pages Per Response\", fontsize=16)\n",
    "ax.set_yticklabels([ \"{0:.0f}%\".format(y * 500) for y in ax.get_yticks() ])\n",
    "pass"
   ]
  },
  {
   "cell_type": "markdown",
   "metadata": {},
   "source": [
    "## What agencies have sent data in tabular data formats?"
   ]
  },
  {
   "cell_type": "code",
   "execution_count": 16,
   "metadata": {
    "collapsed": true
   },
   "outputs": [],
   "source": [
    "def count_responses_by_ext(exts):\n",
    "    return pd.DataFrame({\n",
    "        \"n_responses\": files[\n",
    "            files[\"file_ext\"].isin(exts)\n",
    "        ].groupby([ \"jurisdiction_name\", \"agency_name\" ])[\"request_id\"].nunique()\\\n",
    "            .sort_values(ascending=False)\n",
    "    }).reset_index()"
   ]
  },
  {
   "cell_type": "code",
   "execution_count": 17,
   "metadata": {
    "collapsed": false
   },
   "outputs": [
    {
     "data": {
      "text/html": [
       "<div>\n",
       "<table border=\"1\" class=\"dataframe\">\n",
       "  <thead>\n",
       "    <tr style=\"text-align: right;\">\n",
       "      <th></th>\n",
       "      <th>jurisdiction_name</th>\n",
       "      <th>agency_name</th>\n",
       "      <th>n_responses</th>\n",
       "    </tr>\n",
       "  </thead>\n",
       "  <tbody>\n",
       "    <tr>\n",
       "      <th>0</th>\n",
       "      <td>United States of America</td>\n",
       "      <td>Federal Trade Commission</td>\n",
       "      <td>37</td>\n",
       "    </tr>\n",
       "    <tr>\n",
       "      <th>1</th>\n",
       "      <td>Boston, MA</td>\n",
       "      <td>Boston Police Department</td>\n",
       "      <td>14</td>\n",
       "    </tr>\n",
       "    <tr>\n",
       "      <th>2</th>\n",
       "      <td>Seattle, WA</td>\n",
       "      <td>Seattle Police Department</td>\n",
       "      <td>9</td>\n",
       "    </tr>\n",
       "    <tr>\n",
       "      <th>3</th>\n",
       "      <td>United States of America</td>\n",
       "      <td>George W Bush (43) Presidential Library</td>\n",
       "      <td>7</td>\n",
       "    </tr>\n",
       "    <tr>\n",
       "      <th>4</th>\n",
       "      <td>Washington</td>\n",
       "      <td>Central Puget Sound Regional Transit Authority</td>\n",
       "      <td>6</td>\n",
       "    </tr>\n",
       "    <tr>\n",
       "      <th>5</th>\n",
       "      <td>United States of America</td>\n",
       "      <td>U.S. Citizenship and Immigration Services</td>\n",
       "      <td>4</td>\n",
       "    </tr>\n",
       "    <tr>\n",
       "      <th>6</th>\n",
       "      <td>New York City, NY</td>\n",
       "      <td>Department of Health and Mental Hygiene</td>\n",
       "      <td>4</td>\n",
       "    </tr>\n",
       "    <tr>\n",
       "      <th>7</th>\n",
       "      <td>Seattle, WA</td>\n",
       "      <td>Office of the Mayor</td>\n",
       "      <td>4</td>\n",
       "    </tr>\n",
       "    <tr>\n",
       "      <th>8</th>\n",
       "      <td>Massachusetts</td>\n",
       "      <td>Department of Education</td>\n",
       "      <td>4</td>\n",
       "    </tr>\n",
       "    <tr>\n",
       "      <th>9</th>\n",
       "      <td>Somerville, MA</td>\n",
       "      <td>Somerville City Clerk</td>\n",
       "      <td>4</td>\n",
       "    </tr>\n",
       "    <tr>\n",
       "      <th>10</th>\n",
       "      <td>Boston, MA</td>\n",
       "      <td>Boston Housing Authority</td>\n",
       "      <td>4</td>\n",
       "    </tr>\n",
       "    <tr>\n",
       "      <th>11</th>\n",
       "      <td>Massachusetts</td>\n",
       "      <td>Elections Division (Secretary of State)</td>\n",
       "      <td>4</td>\n",
       "    </tr>\n",
       "    <tr>\n",
       "      <th>12</th>\n",
       "      <td>Florida</td>\n",
       "      <td>Department of Corrections</td>\n",
       "      <td>3</td>\n",
       "    </tr>\n",
       "    <tr>\n",
       "      <th>13</th>\n",
       "      <td>Virginia</td>\n",
       "      <td>Department of Corrections</td>\n",
       "      <td>3</td>\n",
       "    </tr>\n",
       "    <tr>\n",
       "      <th>14</th>\n",
       "      <td>California</td>\n",
       "      <td>Department of Justice</td>\n",
       "      <td>3</td>\n",
       "    </tr>\n",
       "  </tbody>\n",
       "</table>\n",
       "</div>"
      ],
      "text/plain": [
       "           jurisdiction_name                                     agency_name  \\\n",
       "0   United States of America                        Federal Trade Commission   \n",
       "1                 Boston, MA                        Boston Police Department   \n",
       "2                Seattle, WA                       Seattle Police Department   \n",
       "3   United States of America         George W Bush (43) Presidential Library   \n",
       "4                 Washington  Central Puget Sound Regional Transit Authority   \n",
       "5   United States of America       U.S. Citizenship and Immigration Services   \n",
       "6          New York City, NY         Department of Health and Mental Hygiene   \n",
       "7                Seattle, WA                             Office of the Mayor   \n",
       "8              Massachusetts                         Department of Education   \n",
       "9             Somerville, MA                           Somerville City Clerk   \n",
       "10                Boston, MA                        Boston Housing Authority   \n",
       "11             Massachusetts         Elections Division (Secretary of State)   \n",
       "12                   Florida                       Department of Corrections   \n",
       "13                  Virginia                       Department of Corrections   \n",
       "14                California                           Department of Justice   \n",
       "\n",
       "    n_responses  \n",
       "0            37  \n",
       "1            14  \n",
       "2             9  \n",
       "3             7  \n",
       "4             6  \n",
       "5             4  \n",
       "6             4  \n",
       "7             4  \n",
       "8             4  \n",
       "9             4  \n",
       "10            4  \n",
       "11            4  \n",
       "12            3  \n",
       "13            3  \n",
       "14            3  "
      ]
     },
     "execution_count": 17,
     "metadata": {},
     "output_type": "execute_result"
    }
   ],
   "source": [
    "count_responses_by_ext([ \".csv\", \".tsv\", \".xls\", \".xlsx\" ]).head(15)"
   ]
  },
  {
   "cell_type": "code",
   "execution_count": 18,
   "metadata": {
    "collapsed": false
   },
   "outputs": [
    {
     "data": {
      "text/html": [
       "<div>\n",
       "<table border=\"1\" class=\"dataframe\">\n",
       "  <thead>\n",
       "    <tr style=\"text-align: right;\">\n",
       "      <th></th>\n",
       "      <th>request_slug</th>\n",
       "      <th>title</th>\n",
       "      <th>description</th>\n",
       "    </tr>\n",
       "    <tr>\n",
       "      <th>id</th>\n",
       "      <th></th>\n",
       "      <th></th>\n",
       "      <th></th>\n",
       "    </tr>\n",
       "  </thead>\n",
       "  <tbody>\n",
       "    <tr>\n",
       "      <th>9515</th>\n",
       "      <td>ftc-complaints-for-any-complaints-that-may-hav...</td>\n",
       "      <td>Campbell Media Group.xls</td>\n",
       "      <td></td>\n",
       "    </tr>\n",
       "    <tr>\n",
       "      <th>9516</th>\n",
       "      <td>ftc-complaints-for-any-complaints-that-may-hav...</td>\n",
       "      <td>John Campbell.xls</td>\n",
       "      <td></td>\n",
       "    </tr>\n",
       "    <tr>\n",
       "      <th>10325</th>\n",
       "      <td>ftc-fedex-complaints</td>\n",
       "      <td>Responsive Documents</td>\n",
       "      <td></td>\n",
       "    </tr>\n",
       "    <tr>\n",
       "      <th>12012</th>\n",
       "      <td>fy2013-foia-log-federal-trade-commission</td>\n",
       "      <td>Request log 10.1.2012-12.31.2012 Redacted.xls</td>\n",
       "      <td></td>\n",
       "    </tr>\n",
       "    <tr>\n",
       "      <th>12013</th>\n",
       "      <td>fy2013-foia-log-federal-trade-commission</td>\n",
       "      <td>Request log 9.26.2013-9.30.2013 Redacted.xls</td>\n",
       "      <td></td>\n",
       "    </tr>\n",
       "    <tr>\n",
       "      <th>12955</th>\n",
       "      <td>ftc-complaints-nfl</td>\n",
       "      <td>Responsive Documents</td>\n",
       "      <td></td>\n",
       "    </tr>\n",
       "    <tr>\n",
       "      <th>18355</th>\n",
       "      <td>ftc-complaints-for-uber</td>\n",
       "      <td>Uber_complaints.xls</td>\n",
       "      <td></td>\n",
       "    </tr>\n",
       "    <tr>\n",
       "      <th>28075</th>\n",
       "      <td>ftc-complaints-for-western-union-et-al</td>\n",
       "      <td>Western Union MA redacted.xml</td>\n",
       "      <td></td>\n",
       "    </tr>\n",
       "  </tbody>\n",
       "</table>\n",
       "</div>"
      ],
      "text/plain": [
       "                                            request_slug  \\\n",
       "id                                                         \n",
       "9515   ftc-complaints-for-any-complaints-that-may-hav...   \n",
       "9516   ftc-complaints-for-any-complaints-that-may-hav...   \n",
       "10325                               ftc-fedex-complaints   \n",
       "12012           fy2013-foia-log-federal-trade-commission   \n",
       "12013           fy2013-foia-log-federal-trade-commission   \n",
       "12955                                 ftc-complaints-nfl   \n",
       "18355                            ftc-complaints-for-uber   \n",
       "28075             ftc-complaints-for-western-union-et-al   \n",
       "\n",
       "                                               title description  \n",
       "id                                                                \n",
       "9515                        Campbell Media Group.xls              \n",
       "9516                               John Campbell.xls              \n",
       "10325                           Responsive Documents              \n",
       "12012  Request log 10.1.2012-12.31.2012 Redacted.xls              \n",
       "12013   Request log 9.26.2013-9.30.2013 Redacted.xls              \n",
       "12955                           Responsive Documents              \n",
       "18355                            Uber_complaints.xls              \n",
       "28075                  Western Union MA redacted.xml              "
      ]
     },
     "execution_count": 18,
     "metadata": {},
     "output_type": "execute_result"
    }
   ],
   "source": [
    "files[\n",
    "    (files[\"file_ext\"] == \".xls\") &\n",
    "    (files[\"agency_name\"] == \"Federal Trade Commission\")\n",
    "][[ \"request_slug\", \"title\", \"description\"]].fillna(\"\")"
   ]
  },
  {
   "cell_type": "markdown",
   "metadata": {},
   "source": [
    "Generalize that code, so that we can look at any subset of extensions..."
   ]
  },
  {
   "cell_type": "markdown",
   "metadata": {},
   "source": [
    "## How about .zip files?"
   ]
  },
  {
   "cell_type": "code",
   "execution_count": 19,
   "metadata": {
    "collapsed": false
   },
   "outputs": [
    {
     "data": {
      "text/html": [
       "<div>\n",
       "<table border=\"1\" class=\"dataframe\">\n",
       "  <thead>\n",
       "    <tr style=\"text-align: right;\">\n",
       "      <th></th>\n",
       "      <th>jurisdiction_name</th>\n",
       "      <th>agency_name</th>\n",
       "      <th>n_responses</th>\n",
       "    </tr>\n",
       "  </thead>\n",
       "  <tbody>\n",
       "    <tr>\n",
       "      <th>0</th>\n",
       "      <td>United States of America</td>\n",
       "      <td>Immigration and Customs Enforcement</td>\n",
       "      <td>57</td>\n",
       "    </tr>\n",
       "    <tr>\n",
       "      <th>1</th>\n",
       "      <td>United States of America</td>\n",
       "      <td>Department of Homeland Security</td>\n",
       "      <td>12</td>\n",
       "    </tr>\n",
       "    <tr>\n",
       "      <th>2</th>\n",
       "      <td>Boston, MA</td>\n",
       "      <td>Mayor's Office</td>\n",
       "      <td>5</td>\n",
       "    </tr>\n",
       "    <tr>\n",
       "      <th>3</th>\n",
       "      <td>United States of America</td>\n",
       "      <td>Federal Bureau of Investigation</td>\n",
       "      <td>4</td>\n",
       "    </tr>\n",
       "    <tr>\n",
       "      <th>4</th>\n",
       "      <td>United States of America</td>\n",
       "      <td>Food and Drug Administration</td>\n",
       "      <td>4</td>\n",
       "    </tr>\n",
       "    <tr>\n",
       "      <th>5</th>\n",
       "      <td>United States of America</td>\n",
       "      <td>National Park Service</td>\n",
       "      <td>4</td>\n",
       "    </tr>\n",
       "    <tr>\n",
       "      <th>6</th>\n",
       "      <td>Boston, MA</td>\n",
       "      <td>Boston Redevelopment Authority</td>\n",
       "      <td>3</td>\n",
       "    </tr>\n",
       "    <tr>\n",
       "      <th>7</th>\n",
       "      <td>United States of America</td>\n",
       "      <td>Consumer Financial Protection Bureau</td>\n",
       "      <td>3</td>\n",
       "    </tr>\n",
       "    <tr>\n",
       "      <th>8</th>\n",
       "      <td>United States of America</td>\n",
       "      <td>Department of Transportation</td>\n",
       "      <td>3</td>\n",
       "    </tr>\n",
       "    <tr>\n",
       "      <th>9</th>\n",
       "      <td>New York City, NY</td>\n",
       "      <td>New York City Police Department</td>\n",
       "      <td>3</td>\n",
       "    </tr>\n",
       "  </tbody>\n",
       "</table>\n",
       "</div>"
      ],
      "text/plain": [
       "          jurisdiction_name                           agency_name  n_responses\n",
       "0  United States of America   Immigration and Customs Enforcement           57\n",
       "1  United States of America       Department of Homeland Security           12\n",
       "2                Boston, MA                        Mayor's Office            5\n",
       "3  United States of America       Federal Bureau of Investigation            4\n",
       "4  United States of America          Food and Drug Administration            4\n",
       "5  United States of America                 National Park Service            4\n",
       "6                Boston, MA        Boston Redevelopment Authority            3\n",
       "7  United States of America  Consumer Financial Protection Bureau            3\n",
       "8  United States of America          Department of Transportation            3\n",
       "9         New York City, NY       New York City Police Department            3"
      ]
     },
     "execution_count": 19,
     "metadata": {},
     "output_type": "execute_result"
    }
   ],
   "source": [
    "count_responses_by_ext([ \".zip\" ]).head(10)"
   ]
  },
  {
   "cell_type": "markdown",
   "metadata": {},
   "source": [
    "### Oooh what are in those .zip files... ?"
   ]
  },
  {
   "cell_type": "code",
   "execution_count": 20,
   "metadata": {
    "collapsed": false
   },
   "outputs": [
    {
     "data": {
      "text/html": [
       "<div>\n",
       "<table border=\"1\" class=\"dataframe\">\n",
       "  <thead>\n",
       "    <tr style=\"text-align: right;\">\n",
       "      <th></th>\n",
       "      <th>request_slug</th>\n",
       "      <th>title</th>\n",
       "      <th>description</th>\n",
       "    </tr>\n",
       "    <tr>\n",
       "      <th>id</th>\n",
       "      <th></th>\n",
       "      <th></th>\n",
       "      <th></th>\n",
       "    </tr>\n",
       "  </thead>\n",
       "  <tbody>\n",
       "    <tr>\n",
       "      <th>74559</th>\n",
       "      <td>guns-and-ammunition-purchased-in-fy2013</td>\n",
       "      <td>2015-ICFO-04708_141795</td>\n",
       "      <td></td>\n",
       "    </tr>\n",
       "    <tr>\n",
       "      <th>41462</th>\n",
       "      <td>muckrock-request-processing-instructions-immig...</td>\n",
       "      <td>2015-ICFO-00843_61647</td>\n",
       "      <td></td>\n",
       "    </tr>\n",
       "    <tr>\n",
       "      <th>36305</th>\n",
       "      <td>first-record-mentioning-the-marco-polo-task-force</td>\n",
       "      <td>2015-ICFO-00925_39854</td>\n",
       "      <td></td>\n",
       "    </tr>\n",
       "    <tr>\n",
       "      <th>41463</th>\n",
       "      <td>fee-category-records-for-2014foia3508</td>\n",
       "      <td>2015-ICFO-02197_61654</td>\n",
       "      <td></td>\n",
       "    </tr>\n",
       "    <tr>\n",
       "      <th>73557</th>\n",
       "      <td>ice-tpm-on-easton-amc-incident</td>\n",
       "      <td>2015-ICFO-00813_140344</td>\n",
       "      <td></td>\n",
       "    </tr>\n",
       "    <tr>\n",
       "      <th>42232</th>\n",
       "      <td>proposed-records-schedules-ice</td>\n",
       "      <td>2015-ICFO-01103_63226</td>\n",
       "      <td></td>\n",
       "    </tr>\n",
       "    <tr>\n",
       "      <th>28098</th>\n",
       "      <td>ices-statistics-on-deportation-through-the-287...</td>\n",
       "      <td>2014-ICFO-02026_11003</td>\n",
       "      <td></td>\n",
       "    </tr>\n",
       "    <tr>\n",
       "      <th>39321</th>\n",
       "      <td>contracts-and-amendments-for-the-njs-elizabeth...</td>\n",
       "      <td>2014-ICFO-04417_53437</td>\n",
       "      <td></td>\n",
       "    </tr>\n",
       "    <tr>\n",
       "      <th>37455</th>\n",
       "      <td>all-contracts-between-ice-and-geo-group-for-nj...</td>\n",
       "      <td>2014-ICFO-05862_45563</td>\n",
       "      <td></td>\n",
       "    </tr>\n",
       "    <tr>\n",
       "      <th>31355</th>\n",
       "      <td>documents-on-onion-routing</td>\n",
       "      <td>2015-ICFO-06250_21317</td>\n",
       "      <td></td>\n",
       "    </tr>\n",
       "    <tr>\n",
       "      <th>41059</th>\n",
       "      <td>ice-contracts-for-eloy-detention-center</td>\n",
       "      <td>2015-ICFO-14496_59419</td>\n",
       "      <td></td>\n",
       "    </tr>\n",
       "    <tr>\n",
       "      <th>60880</th>\n",
       "      <td>ice-contracts-for-florence-correctional-center</td>\n",
       "      <td>2015-ICFO-14486_125847</td>\n",
       "      <td></td>\n",
       "    </tr>\n",
       "    <tr>\n",
       "      <th>64558</th>\n",
       "      <td>ice-contractsmous-re-san-diego-correctional-fa...</td>\n",
       "      <td>2015-ICFO-14456_132116</td>\n",
       "      <td></td>\n",
       "    </tr>\n",
       "    <tr>\n",
       "      <th>73009</th>\n",
       "      <td>ice-contractsmous-re-north-georgia-detention-c...</td>\n",
       "      <td>2015-ICFO-13508_139232</td>\n",
       "      <td></td>\n",
       "    </tr>\n",
       "    <tr>\n",
       "      <th>73243</th>\n",
       "      <td>ice-contractsmous-re-stewart-detention-center</td>\n",
       "      <td>2015-ICFO-95472_139648</td>\n",
       "      <td></td>\n",
       "    </tr>\n",
       "    <tr>\n",
       "      <th>53431</th>\n",
       "      <td>ice-contractsmous-re-torrance-county-detention...</td>\n",
       "      <td>2015-ICFO-16763_101419</td>\n",
       "      <td></td>\n",
       "    </tr>\n",
       "    <tr>\n",
       "      <th>41847</th>\n",
       "      <td>ice-contractsmous-re-houston-processing-center</td>\n",
       "      <td>2015-ICFO-16784_62158</td>\n",
       "      <td></td>\n",
       "    </tr>\n",
       "    <tr>\n",
       "      <th>41078</th>\n",
       "      <td>ice-contractsmous-re-t-don-hutto-residential-c...</td>\n",
       "      <td>2015-ICFO-16796_59544</td>\n",
       "      <td></td>\n",
       "    </tr>\n",
       "    <tr>\n",
       "      <th>51563</th>\n",
       "      <td>operation-safeguard-ice</td>\n",
       "      <td>2015-ICFO-66842_94404</td>\n",
       "      <td></td>\n",
       "    </tr>\n",
       "    <tr>\n",
       "      <th>57458</th>\n",
       "      <td>ice-contractsmous-re-adelanto-detention-facility</td>\n",
       "      <td>2015-ICFO-69562_122383</td>\n",
       "      <td></td>\n",
       "    </tr>\n",
       "    <tr>\n",
       "      <th>59122</th>\n",
       "      <td>ice-contractsmous-re-adelanto-detention-facility</td>\n",
       "      <td>2015-ICFO-69562_123610</td>\n",
       "      <td></td>\n",
       "    </tr>\n",
       "    <tr>\n",
       "      <th>57456</th>\n",
       "      <td>ice-contractsmous-re-denver-contract-detention...</td>\n",
       "      <td>2015-ICFO-68826_122378</td>\n",
       "      <td></td>\n",
       "    </tr>\n",
       "    <tr>\n",
       "      <th>60095</th>\n",
       "      <td>ice-contractsmous-re-broward-transitional-center</td>\n",
       "      <td>2015-ICFO-69576_124580</td>\n",
       "      <td></td>\n",
       "    </tr>\n",
       "    <tr>\n",
       "      <th>49955</th>\n",
       "      <td>ice-contractsmous-re-central-texas-detention-f...</td>\n",
       "      <td>2015-ICFO-68919_88958</td>\n",
       "      <td></td>\n",
       "    </tr>\n",
       "    <tr>\n",
       "      <th>60873</th>\n",
       "      <td>ice-contractsmous-re-joe-corley-detention-faci...</td>\n",
       "      <td>2015-ICFO-68925_125799</td>\n",
       "      <td></td>\n",
       "    </tr>\n",
       "    <tr>\n",
       "      <th>38781</th>\n",
       "      <td>usmsice-agreementsmous-re-joe-corley-detention...</td>\n",
       "      <td>2015-ICFO-68931_52258</td>\n",
       "      <td></td>\n",
       "    </tr>\n",
       "    <tr>\n",
       "      <th>60879</th>\n",
       "      <td>ice-contractsmous-re-lasalle-detention-facility</td>\n",
       "      <td>2015-ICFO-69588_125805</td>\n",
       "      <td></td>\n",
       "    </tr>\n",
       "    <tr>\n",
       "      <th>57441</th>\n",
       "      <td>ice-contractsmous-re-northwest-detention-center</td>\n",
       "      <td>2015-ICFO-69594_122331</td>\n",
       "      <td></td>\n",
       "    </tr>\n",
       "    <tr>\n",
       "      <th>38772</th>\n",
       "      <td>ice-contractsmous-re-val-verde-correctional-fa...</td>\n",
       "      <td>2015-ICFO-69596_52207</td>\n",
       "      <td></td>\n",
       "    </tr>\n",
       "    <tr>\n",
       "      <th>38536</th>\n",
       "      <td>ice-national-lpr-solicitation-retraction-and-r...</td>\n",
       "      <td>2015-ICFO-71418_51262</td>\n",
       "      <td></td>\n",
       "    </tr>\n",
       "    <tr>\n",
       "      <th>41255</th>\n",
       "      <td>artesia-ice-detention-center-complaints</td>\n",
       "      <td>2015-ICFO-76918_60307</td>\n",
       "      <td></td>\n",
       "    </tr>\n",
       "    <tr>\n",
       "      <th>51238</th>\n",
       "      <td>first-record-mentioning-the-silk-road-task-force</td>\n",
       "      <td>2015-ICFO-88321_93769</td>\n",
       "      <td></td>\n",
       "    </tr>\n",
       "    <tr>\n",
       "      <th>39931</th>\n",
       "      <td>secure-communities-statsreportspolicies-2008-p...</td>\n",
       "      <td>2015-ICFO-76060_55392</td>\n",
       "      <td></td>\n",
       "    </tr>\n",
       "    <tr>\n",
       "      <th>48426</th>\n",
       "      <td>ice-contractsmous-re-laredo-processing-center</td>\n",
       "      <td>2015-ICFO-84734_82433</td>\n",
       "      <td></td>\n",
       "    </tr>\n",
       "    <tr>\n",
       "      <th>70848</th>\n",
       "      <td>ice-contractsmous-re-south-texas-family-reside...</td>\n",
       "      <td>2015-ICFO-84728_135787</td>\n",
       "      <td></td>\n",
       "    </tr>\n",
       "    <tr>\n",
       "      <th>77135</th>\n",
       "      <td>adelanto-ca-contractsmous-w-ice-re-adelanto-de...</td>\n",
       "      <td>2015-ICFO-85376_146936</td>\n",
       "      <td></td>\n",
       "    </tr>\n",
       "    <tr>\n",
       "      <th>56674</th>\n",
       "      <td>operation-safeguard-contract-and-moumoa</td>\n",
       "      <td>2015-ICFO-88977_119260</td>\n",
       "      <td></td>\n",
       "    </tr>\n",
       "    <tr>\n",
       "      <th>53397</th>\n",
       "      <td>sarah-saldana-schedule-december-23-2014-july-2015</td>\n",
       "      <td>2015-ICFO-89036_100525</td>\n",
       "      <td></td>\n",
       "    </tr>\n",
       "    <tr>\n",
       "      <th>76666</th>\n",
       "      <td>solitary-confinement-policiesprocedures-and-re...</td>\n",
       "      <td>2015-ICFO-90730_145864</td>\n",
       "      <td></td>\n",
       "    </tr>\n",
       "    <tr>\n",
       "      <th>76867</th>\n",
       "      <td>priority-enforcement-program-local-law-enforce...</td>\n",
       "      <td>2015-ICFO-91159_146575</td>\n",
       "      <td></td>\n",
       "    </tr>\n",
       "    <tr>\n",
       "      <th>54578</th>\n",
       "      <td>secure-communities-program-reviewsevaluations</td>\n",
       "      <td>2015-ICFO-91160_107736</td>\n",
       "      <td></td>\n",
       "    </tr>\n",
       "    <tr>\n",
       "      <th>52473</th>\n",
       "      <td>ice-contract-form-completion-procedures</td>\n",
       "      <td>2015-ICFO-91350_96889</td>\n",
       "      <td></td>\n",
       "    </tr>\n",
       "    <tr>\n",
       "      <th>70836</th>\n",
       "      <td>ice-contractsmousigsas-re-eloy-detention-center</td>\n",
       "      <td>2015-ICFO-94825_135767</td>\n",
       "      <td></td>\n",
       "    </tr>\n",
       "    <tr>\n",
       "      <th>73541</th>\n",
       "      <td>ice-contractsmousigsas-re-west-tennessee-deten...</td>\n",
       "      <td>2015-ICFO-95159_140269</td>\n",
       "      <td></td>\n",
       "    </tr>\n",
       "    <tr>\n",
       "      <th>81072</th>\n",
       "      <td>ice-contractsmousigsas-re-laredo-processing-ce...</td>\n",
       "      <td>2015-ICFO-95353_147206</td>\n",
       "      <td></td>\n",
       "    </tr>\n",
       "    <tr>\n",
       "      <th>75118</th>\n",
       "      <td>fearlibrarianfreedom</td>\n",
       "      <td>2015-ICFO-100157_142441</td>\n",
       "      <td></td>\n",
       "    </tr>\n",
       "    <tr>\n",
       "      <th>66911</th>\n",
       "      <td>ice-harris-corporation-contract-1</td>\n",
       "      <td>2016-ICFO-11541_134060</td>\n",
       "      <td></td>\n",
       "    </tr>\n",
       "    <tr>\n",
       "      <th>71356</th>\n",
       "      <td>ice-harris-corporation-contract-3</td>\n",
       "      <td>2016-ICFO-11550_136699</td>\n",
       "      <td></td>\n",
       "    </tr>\n",
       "    <tr>\n",
       "      <th>77133</th>\n",
       "      <td>ice-harris-corporation-contract-4</td>\n",
       "      <td>2016-ICFO-11570_146937</td>\n",
       "      <td></td>\n",
       "    </tr>\n",
       "    <tr>\n",
       "      <th>71358</th>\n",
       "      <td>ice-harris-corporation-contract-5</td>\n",
       "      <td>2016-ICFO-11575_136703</td>\n",
       "      <td></td>\n",
       "    </tr>\n",
       "    <tr>\n",
       "      <th>73244</th>\n",
       "      <td>ice-harris-corporation-contract-6</td>\n",
       "      <td>2016-ICFO-11579_139651</td>\n",
       "      <td></td>\n",
       "    </tr>\n",
       "    <tr>\n",
       "      <th>75696</th>\n",
       "      <td>ice-harris-corporation-contract-1</td>\n",
       "      <td>2016-ICFO-15523_143566</td>\n",
       "      <td></td>\n",
       "    </tr>\n",
       "    <tr>\n",
       "      <th>76019</th>\n",
       "      <td>ice-harris-corporation-contract-8</td>\n",
       "      <td>2016-ICFO-15528_144667</td>\n",
       "      <td></td>\n",
       "    </tr>\n",
       "    <tr>\n",
       "      <th>77134</th>\n",
       "      <td>ice-harris-corporation-contract-9</td>\n",
       "      <td>2016-ICFO-15531_146939</td>\n",
       "      <td></td>\n",
       "    </tr>\n",
       "    <tr>\n",
       "      <th>76018</th>\n",
       "      <td>ice-harris-corporation-contract-10</td>\n",
       "      <td>2016-ICFO-15534_144665</td>\n",
       "      <td></td>\n",
       "    </tr>\n",
       "    <tr>\n",
       "      <th>83900</th>\n",
       "      <td>ice-harris-corporation-contract-13</td>\n",
       "      <td>2016-ICFO-15543_151713</td>\n",
       "      <td></td>\n",
       "    </tr>\n",
       "    <tr>\n",
       "      <th>76017</th>\n",
       "      <td>ice-harris-corporation-contract-14</td>\n",
       "      <td>2016-ICFO-15547_144663</td>\n",
       "      <td></td>\n",
       "    </tr>\n",
       "    <tr>\n",
       "      <th>75501</th>\n",
       "      <td>ice-digital-receiver-technology-contract</td>\n",
       "      <td>2016-ICFO-15513_143128</td>\n",
       "      <td></td>\n",
       "    </tr>\n",
       "  </tbody>\n",
       "</table>\n",
       "</div>"
      ],
      "text/plain": [
       "                                            request_slug  \\\n",
       "id                                                         \n",
       "74559            guns-and-ammunition-purchased-in-fy2013   \n",
       "41462  muckrock-request-processing-instructions-immig...   \n",
       "36305  first-record-mentioning-the-marco-polo-task-force   \n",
       "41463              fee-category-records-for-2014foia3508   \n",
       "73557                     ice-tpm-on-easton-amc-incident   \n",
       "42232                     proposed-records-schedules-ice   \n",
       "28098  ices-statistics-on-deportation-through-the-287...   \n",
       "39321  contracts-and-amendments-for-the-njs-elizabeth...   \n",
       "37455  all-contracts-between-ice-and-geo-group-for-nj...   \n",
       "31355                         documents-on-onion-routing   \n",
       "41059            ice-contracts-for-eloy-detention-center   \n",
       "60880     ice-contracts-for-florence-correctional-center   \n",
       "64558  ice-contractsmous-re-san-diego-correctional-fa...   \n",
       "73009  ice-contractsmous-re-north-georgia-detention-c...   \n",
       "73243      ice-contractsmous-re-stewart-detention-center   \n",
       "53431  ice-contractsmous-re-torrance-county-detention...   \n",
       "41847     ice-contractsmous-re-houston-processing-center   \n",
       "41078  ice-contractsmous-re-t-don-hutto-residential-c...   \n",
       "51563                            operation-safeguard-ice   \n",
       "57458   ice-contractsmous-re-adelanto-detention-facility   \n",
       "59122   ice-contractsmous-re-adelanto-detention-facility   \n",
       "57456  ice-contractsmous-re-denver-contract-detention...   \n",
       "60095   ice-contractsmous-re-broward-transitional-center   \n",
       "49955  ice-contractsmous-re-central-texas-detention-f...   \n",
       "60873  ice-contractsmous-re-joe-corley-detention-faci...   \n",
       "38781  usmsice-agreementsmous-re-joe-corley-detention...   \n",
       "60879    ice-contractsmous-re-lasalle-detention-facility   \n",
       "57441    ice-contractsmous-re-northwest-detention-center   \n",
       "38772  ice-contractsmous-re-val-verde-correctional-fa...   \n",
       "38536  ice-national-lpr-solicitation-retraction-and-r...   \n",
       "41255            artesia-ice-detention-center-complaints   \n",
       "51238   first-record-mentioning-the-silk-road-task-force   \n",
       "39931  secure-communities-statsreportspolicies-2008-p...   \n",
       "48426      ice-contractsmous-re-laredo-processing-center   \n",
       "70848  ice-contractsmous-re-south-texas-family-reside...   \n",
       "77135  adelanto-ca-contractsmous-w-ice-re-adelanto-de...   \n",
       "56674            operation-safeguard-contract-and-moumoa   \n",
       "53397  sarah-saldana-schedule-december-23-2014-july-2015   \n",
       "76666  solitary-confinement-policiesprocedures-and-re...   \n",
       "76867  priority-enforcement-program-local-law-enforce...   \n",
       "54578      secure-communities-program-reviewsevaluations   \n",
       "52473            ice-contract-form-completion-procedures   \n",
       "70836    ice-contractsmousigsas-re-eloy-detention-center   \n",
       "73541  ice-contractsmousigsas-re-west-tennessee-deten...   \n",
       "81072  ice-contractsmousigsas-re-laredo-processing-ce...   \n",
       "75118                               fearlibrarianfreedom   \n",
       "66911                  ice-harris-corporation-contract-1   \n",
       "71356                  ice-harris-corporation-contract-3   \n",
       "77133                  ice-harris-corporation-contract-4   \n",
       "71358                  ice-harris-corporation-contract-5   \n",
       "73244                  ice-harris-corporation-contract-6   \n",
       "75696                  ice-harris-corporation-contract-1   \n",
       "76019                  ice-harris-corporation-contract-8   \n",
       "77134                  ice-harris-corporation-contract-9   \n",
       "76018                 ice-harris-corporation-contract-10   \n",
       "83900                 ice-harris-corporation-contract-13   \n",
       "76017                 ice-harris-corporation-contract-14   \n",
       "75501           ice-digital-receiver-technology-contract   \n",
       "\n",
       "                         title description  \n",
       "id                                          \n",
       "74559   2015-ICFO-04708_141795              \n",
       "41462    2015-ICFO-00843_61647              \n",
       "36305    2015-ICFO-00925_39854              \n",
       "41463    2015-ICFO-02197_61654              \n",
       "73557   2015-ICFO-00813_140344              \n",
       "42232    2015-ICFO-01103_63226              \n",
       "28098    2014-ICFO-02026_11003              \n",
       "39321    2014-ICFO-04417_53437              \n",
       "37455    2014-ICFO-05862_45563              \n",
       "31355    2015-ICFO-06250_21317              \n",
       "41059    2015-ICFO-14496_59419              \n",
       "60880   2015-ICFO-14486_125847              \n",
       "64558   2015-ICFO-14456_132116              \n",
       "73009   2015-ICFO-13508_139232              \n",
       "73243   2015-ICFO-95472_139648              \n",
       "53431   2015-ICFO-16763_101419              \n",
       "41847    2015-ICFO-16784_62158              \n",
       "41078    2015-ICFO-16796_59544              \n",
       "51563    2015-ICFO-66842_94404              \n",
       "57458   2015-ICFO-69562_122383              \n",
       "59122   2015-ICFO-69562_123610              \n",
       "57456   2015-ICFO-68826_122378              \n",
       "60095   2015-ICFO-69576_124580              \n",
       "49955    2015-ICFO-68919_88958              \n",
       "60873   2015-ICFO-68925_125799              \n",
       "38781    2015-ICFO-68931_52258              \n",
       "60879   2015-ICFO-69588_125805              \n",
       "57441   2015-ICFO-69594_122331              \n",
       "38772    2015-ICFO-69596_52207              \n",
       "38536    2015-ICFO-71418_51262              \n",
       "41255    2015-ICFO-76918_60307              \n",
       "51238    2015-ICFO-88321_93769              \n",
       "39931    2015-ICFO-76060_55392              \n",
       "48426    2015-ICFO-84734_82433              \n",
       "70848   2015-ICFO-84728_135787              \n",
       "77135   2015-ICFO-85376_146936              \n",
       "56674   2015-ICFO-88977_119260              \n",
       "53397   2015-ICFO-89036_100525              \n",
       "76666   2015-ICFO-90730_145864              \n",
       "76867   2015-ICFO-91159_146575              \n",
       "54578   2015-ICFO-91160_107736              \n",
       "52473    2015-ICFO-91350_96889              \n",
       "70836   2015-ICFO-94825_135767              \n",
       "73541   2015-ICFO-95159_140269              \n",
       "81072   2015-ICFO-95353_147206              \n",
       "75118  2015-ICFO-100157_142441              \n",
       "66911   2016-ICFO-11541_134060              \n",
       "71356   2016-ICFO-11550_136699              \n",
       "77133   2016-ICFO-11570_146937              \n",
       "71358   2016-ICFO-11575_136703              \n",
       "73244   2016-ICFO-11579_139651              \n",
       "75696   2016-ICFO-15523_143566              \n",
       "76019   2016-ICFO-15528_144667              \n",
       "77134   2016-ICFO-15531_146939              \n",
       "76018   2016-ICFO-15534_144665              \n",
       "83900   2016-ICFO-15543_151713              \n",
       "76017   2016-ICFO-15547_144663              \n",
       "75501   2016-ICFO-15513_143128              "
      ]
     },
     "execution_count": 20,
     "metadata": {},
     "output_type": "execute_result"
    }
   ],
   "source": [
    "files[\n",
    "    (files[\"file_ext\"] == \".zip\") &\n",
    "    (files[\"agency_name\"] == \"Immigration and Customs Enforcement\")\n",
    "][[ \"request_slug\", \"title\", \"description\"]].fillna(\"\")"
   ]
  },
  {
   "cell_type": "code",
   "execution_count": 21,
   "metadata": {
    "collapsed": false
   },
   "outputs": [
    {
     "name": "stdout",
     "output_type": "stream",
     "text": [
      "https://d3gn0r3afghep.cloudfront.net/foia_files/2016/02/22/2016-ICFO-15513_143128.zip\n"
     ]
    }
   ],
   "source": [
    "print(files.loc[75501][\"ffile\"])"
   ]
  },
  {
   "cell_type": "markdown",
   "metadata": {},
   "source": [
    "## Random Sound!"
   ]
  },
  {
   "cell_type": "code",
   "execution_count": 22,
   "metadata": {
    "collapsed": false
   },
   "outputs": [
    {
     "data": {
      "text/plain": [
       "97"
      ]
     },
     "execution_count": 22,
     "metadata": {},
     "output_type": "execute_result"
    }
   ],
   "source": [
    "(files[\"file_ext\"] == \".wav\").sum()"
   ]
  },
  {
   "cell_type": "code",
   "execution_count": 23,
   "metadata": {
    "collapsed": false
   },
   "outputs": [
    {
     "name": "stdout",
     "output_type": "stream",
     "text": [
      "{'access': 'public',\n",
      " 'agency_name': 'St. Louis County Police Department',\n",
      " 'communication_id': 109317,\n",
      " 'date': '2014-11-20T00:00:00',\n",
      " 'description': nan,\n",
      " 'doc_id': nan,\n",
      " 'ffile': 'https://d3gn0r3afghep.cloudfront.net/foia_files/Recorded_on_11-Aug-2014_at_14.25.36_118EQA106266900_censored_1_1.wav',\n",
      " 'file_ext': '.wav',\n",
      " 'is_likely_letter': False,\n",
      " 'jurisdiction_name': 'St. Louis County, MO',\n",
      " 'pages': 0,\n",
      " 'request_id': 13292,\n",
      " 'request_slug': 'communications-with-faa-dhs-and-dla',\n",
      " 'source': 'St. Louis County Police Department',\n",
      " 'title': 'Recorded on 11-Aug-2014 at 14.25.36 (118EQ(A106266900) '\n",
      "          'censored.wav'}\n"
     ]
    },
    {
     "data": {
      "text/html": [
       "\n",
       "                <audio controls=\"controls\" >\n",
       "                    <source src=\"https://d3gn0r3afghep.cloudfront.net/foia_files/Recorded_on_11-Aug-2014_at_14.25.36_118EQA106266900_censored_1_1.wav\" type=\"audio/x-wav\" />\n",
       "                    Your browser does not support the audio element.\n",
       "                </audio>\n",
       "              "
      ],
      "text/plain": [
       "<IPython.lib.display.Audio object>"
      ]
     },
     "execution_count": 23,
     "metadata": {},
     "output_type": "execute_result"
    }
   ],
   "source": [
    "sample_audio = files[\n",
    "    (files[\"file_ext\"] == \".wav\")\n",
    "].sample(1).iloc[0]\n",
    "pprint(dict(sample_audio))\n",
    "display.Audio(url=sample_audio[\"ffile\"])"
   ]
  },
  {
   "cell_type": "markdown",
   "metadata": {},
   "source": [
    "---\n",
    "\n",
    "---\n",
    "\n",
    "---"
   ]
  }
 ],
 "metadata": {
  "kernelspec": {
   "display_name": "Python 3",
   "language": "python",
   "name": "python3"
  },
  "language_info": {
   "codemirror_mode": {
    "name": "ipython",
    "version": 3
   },
   "file_extension": ".py",
   "mimetype": "text/x-python",
   "name": "python",
   "nbconvert_exporter": "python",
   "pygments_lexer": "ipython3",
   "version": "3.4.3"
  }
 },
 "nbformat": 4,
 "nbformat_minor": 0
}
